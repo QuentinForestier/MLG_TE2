{
 "cells": [
  {
   "cell_type": "markdown",
   "metadata": {},
   "source": [
    "<h1> Machine Learning - Test 2</h1>\n",
    "\n",
    "<h2> Auteurs </h2>\n",
    "\n",
    "* Forestier Quentin\n",
    "* Herzig Melvyn\n"
   ]
  },
  {
   "cell_type": "markdown",
   "metadata": {},
   "source": [
    "<h3> Importations </h3>\n",
    "La première partie consiste à importer PyEvolve de manière à pouvoir utiliser notre algorithme génétique puis d'importer GeoPy pour calculer la distance entre les villes en tenant compte de la forme de la terre."
   ]
  },
  {
   "cell_type": "code",
   "execution_count": 120,
   "metadata": {
    "pycharm": {
     "name": ""
    }
   },
   "outputs": [],
   "source": [
    "# For GA algorithm\n",
    "from pyevolve import GSimpleGA\n",
    "from pyevolve import Selectors\n",
    "from pyevolve import Statistics\n",
    "from pyevolve import G1DList\n",
    "from pyevolve import Mutators\n",
    "from pyevolve import Crossovers\n",
    "from pyevolve import Consts\n",
    "\n",
    "import random\n",
    "\n",
    "# For cites distances\n",
    "from geopy.distance import geodesic as GD\n",
    "\n",
    "PIL_SUPPORT = None\n",
    "\n",
    "try:\n",
    "   from PIL import Image, ImageDraw, ImageFont\n",
    "   PIL_SUPPORT = True\n",
    "except:\n",
    "   PIL_SUPPORT = False"
   ]
  },
  {
   "cell_type": "markdown",
   "metadata": {},
   "source": [
    "<h3> Matrice des distances </h3>\n",
    "Dans cette première, nous créons la matrice de distance à partir des latitudes et longitudes des villes. La matrice de distance est importante car elle sera utilisée plus tard dans la fonction de \"fitness\".\n",
    "\n",
    "Pour ce faire, nous zippons les listes de coordonnées pour obtenir un tuple (lat, long) par ville. Ensuite, nous créons la matrices de distance à partir de cette liste de tuples. \n"
   ]
  },
  {
   "cell_type": "code",
   "execution_count": 121,
   "metadata": {},
   "outputs": [],
   "source": [
    "# Cities latitudes\n",
    "LAT = [16.47, 16.47, 20.09, 22.39, 25.23, 22.00, 20.47, \n",
    "       17.20, 16.30, 14.05, 16.53, 21.52, 19.41, 20.09]\n",
    "\n",
    "# Cities longitudes\n",
    "LON = [96.10, 94.44, 92.54, 93.37, 97.24, 96.05, 97.02, \n",
    "       96.29, 97.38, 98.12, 97.38, 95.59, 97.13, 94.55]\n",
    "\n",
    "def compute_distances_matrix(coordinates):\n",
    "    '''\n",
    "    Compute a distance matrix based on list of (lat, lon).\n",
    "    The cell [i, j] is the distance from the coordinate i to the coordinate j\n",
    "    This is not an euclidean disance, but a distance that consider the earth spherical form.\n",
    "    '''\n",
    "    matrix={}\n",
    "    for i, coordinate_src in enumerate(coordinates):\n",
    "        for j, coordinate_dist in enumerate(coordinates):\n",
    "            matrix[i, j] = GD(coordinate_src, coordinate_dist).km\n",
    "    return matrix\n",
    "\n",
    "distances_matrix = compute_distances_matrix(list(zip(LAT, LON)))"
   ]
  },
  {
   "cell_type": "markdown",
   "metadata": {},
   "source": [
    "<h3> Fonction de fitness </h3>\n",
    "Pour calculer la fitness d'un chromosome, nous calculons la distance totale du tour. \n",
    "Plus le tour est court meilleur est son \"fitness\".\n",
    "Pour chaque index, nous calculons la distances au prochain index.\n",
    "Ainsi pour l'index 0 nous obtenons la distance entre la ville à l'index 0 et la ville à l'index 1.\n",
    "De la même manière, pour le dernier index, nous obtenons la distance jusqu'à la ville à l'index 0. "
   ]
  },
  {
   "cell_type": "code",
   "execution_count": 122,
   "metadata": {},
   "outputs": [],
   "source": [
    "def fitness_tour_length(chromosome_tour):\n",
    "    global distances_matrix\n",
    "    tour_length = 0.0\n",
    "    nb_cities = len(chromosome_tour)\n",
    "    for i in range(nb_cities):\n",
    "        j = (i + 1) % nb_cities  \n",
    "        tour_length += distances_matrix[chromosome_tour[i], chromosome_tour[j]]\n",
    "    return tour_length\n",
    "    "
   ]
  },
  {
   "cell_type": "markdown",
   "metadata": {},
   "source": []
  },
  {
   "cell_type": "code",
   "execution_count": 123,
   "metadata": {},
   "outputs": [],
   "source": [
    "def genome_initializator(genome, **args):\n",
    "   \"\"\" \n",
    "   Initialize a genome\n",
    "   source: http://pyevolve.sourceforge.net/examples.html#example-12-the-travelling-salesman-problem-tsp\n",
    "   \"\"\"\n",
    "   genome.clearList()\n",
    "   lst = [i for i in range(genome.getListSize())]\n",
    "\n",
    "   for i in range(genome.getListSize()):\n",
    "      choice = random.choice(lst)\n",
    "      lst.remove(choice)\n",
    "      genome.append(choice)"
   ]
  },
  {
   "cell_type": "code",
   "execution_count": 124,
   "metadata": {},
   "outputs": [],
   "source": [
    "def write_tour_to_img(coords, tour, img_file):\n",
    "   \"\"\" The function to plot the graph \"\"\"\n",
    "   padding=2\n",
    "   coords=[(10*x+padding,10*y+padding) for (x,y) in coords]\n",
    "   maxx,maxy,minx,miny=0,0,0,0\n",
    "   for x,y in coords:\n",
    "      maxx=max(x,maxx)\n",
    "      maxy=max(y,maxy)\n",
    "      minx=min(x,minx)\n",
    "      miny=min(y,miny)\n",
    "   maxx+=padding\n",
    "   maxy+=padding\n",
    "   minx-=padding\n",
    "   miny-=padding\n",
    "   img=Image.new(\"RGB\",(int(maxx) - int(minx),int(maxy) - int(miny)),color=(255,255,255))\n",
    "\n",
    "   font=ImageFont.load_default()\n",
    "   d=ImageDraw.Draw(img);\n",
    "   num_cities=len(tour)\n",
    "   for i in range(num_cities):\n",
    "      j=(i+1)%num_cities\n",
    "      city_i=tour[i]\n",
    "      city_j=tour[j]\n",
    "      x1,y1=coords[city_i]\n",
    "      x2,y2=coords[city_j]\n",
    "      d.line((int(x1 - minx),int(y1 - miny),int(x2 - minx),int(y2 - miny)),fill=(0,0,0))\n",
    "      d.text((int(x1 - minx)+7,int(y1 - )-5),str(i),font=font,fill=(32,32,32))\n",
    "\n",
    "   for x,y in coords:\n",
    "      x,y=int(x),int(y)\n",
    "      d.ellipse((x-2,y-2,x+2,y+2),outline=(0,0,0),fill=(196,196,196))\n",
    "   del d\n",
    "   img.save(img_file, \"PNG\")\n",
    "\n",
    "   print(\"The plot was saved into the %s file.\" % (img_file,))"
   ]
  },
  {
   "cell_type": "markdown",
   "metadata": {},
   "source": [
    "<h1> Execution </h1>"
   ]
  },
  {
   "cell_type": "code",
   "execution_count": 125,
   "metadata": {},
   "outputs": [
    {
     "name": "stdout",
     "output_type": "stream",
     "text": [
      "Gen. 0 (0.00%): Max/Min/Avg Fitness(Raw)             [8107.32(8591.07)/5499.19(5049.20)/6756.10(6756.10)]\n",
      "Gen. 100 (10.00%): Max/Min/Avg Fitness(Raw)             [4665.69(6442.46)/3765.74(3486.22)/3888.08(3888.08)]\n",
      "Gen. 200 (20.00%): Max/Min/Avg Fitness(Raw)             [4608.19(5875.06)/3706.57(3486.22)/3840.15(3840.15)]\n",
      "Gen. 300 (30.00%): Max/Min/Avg Fitness(Raw)             [4657.46(5860.34)/3726.29(3486.22)/3881.22(3881.22)]\n",
      "Gen. 400 (40.00%): Max/Min/Avg Fitness(Raw)             [4590.10(5987.07)/3705.18(3486.22)/3825.08(3825.08)]\n",
      "Gen. 500 (50.00%): Max/Min/Avg Fitness(Raw)             [4661.58(5900.72)/3731.11(3486.22)/3884.65(3884.65)]\n",
      "Gen. 600 (60.00%): Max/Min/Avg Fitness(Raw)             [4526.43(6528.95)/3693.82(3486.22)/3772.02(3772.02)]\n",
      "Gen. 700 (70.00%): Max/Min/Avg Fitness(Raw)             [4679.68(6632.07)/3781.69(3486.22)/3899.73(3899.73)]\n",
      "Gen. 800 (80.00%): Max/Min/Avg Fitness(Raw)             [4681.20(6000.64)/3746.87(3486.22)/3901.00(3901.00)]\n",
      "Gen. 900 (90.00%): Max/Min/Avg Fitness(Raw)             [4562.08(5900.72)/3687.44(3486.22)/3801.73(3801.73)]\n",
      "Gen. 1000 (100.00%): Max/Min/Avg Fitness(Raw)             [4610.33(5844.25)/3705.44(3486.22)/3841.95(3841.95)]\n",
      "Total time elapsed: 3.501 seconds.\n",
      "- GenomeBase\n",
      "\tScore:\t\t\t 3486.221225\n",
      "\tFitness:\t\t 3705.435328\n",
      "\n",
      "\tParams:\t\t {'rangemin': 0, 'rangemax': 13}\n",
      "\n",
      "\tSlot [Evaluator] (Count: 1)\n",
      "\t\tName: fitness_tour_length - Weight: 0.50\n",
      "\tSlot [Initializator] (Count: 1)\n",
      "\t\tName: genome_initializator - Weight: 0.50\n",
      "\t\tDoc:  \n",
      "   Initialize a genome\n",
      "   source: http://pyevolve.sourceforge.net/examples.html#example-12-the-travelling-salesman-problem-tsp\n",
      "   \n",
      "\tSlot [Mutator] (Count: 1)\n",
      "\t\tName: G1DListMutatorSwap - Weight: 0.50\n",
      "\t\tDoc:  The mutator of G1DList, Swap Mutator\n",
      "\n",
      "    .. note:: this mutator is :term:`Data Type Independent`\n",
      "\n",
      "    \n",
      "\tSlot [Crossover] (Count: 1)\n",
      "\t\tName: G1DListCrossoverOX - Weight: 0.50\n",
      "\t\tDoc:  The OX Crossover for G1DList  (order crossover) \n",
      "\n",
      "- G1DList\n",
      "\tList size:\t 14\n",
      "\tList:\t\t [7, 0, 10, 8, 9, 1, 2, 3, 4, 5, 11, 13, 6, 12]\n",
      "\n",
      "\n",
      "The plot was saved into the tsp_result.png file.\n"
     ]
    }
   ],
   "source": [
    "number_of_cities = len(LAT)\n",
    "\n",
    "# Setting genome\n",
    "genome = G1DList.G1DList(number_of_cities)\n",
    "genome.setParams(rangemin=0, rangemax=number_of_cities - 1)\n",
    "\n",
    "genome.evaluator.set(fitness_tour_length)\n",
    "genome.mutator.set(Mutators.G1DListMutatorSwap)\n",
    "genome.crossover.set(Crossovers.G1DListCrossoverOX)\n",
    "genome.initializator.set(genome_initializator)\n",
    "\n",
    "ga = GSimpleGA.GSimpleGA(genome)\n",
    "ga.setGenerations(1000)\n",
    "ga.setMinimax(Consts.minimaxType[\"minimize\"])\n",
    "ga.setCrossoverRate(1.0)\n",
    "ga.setMutationRate(0.03)\n",
    "ga.setPopulationSize(80)\n",
    "\n",
    "ga.evolve(freq_stats=100)\n",
    "best = ga.bestIndividual()\n",
    "\n",
    "print(best)\n",
    "\n",
    "if PIL_SUPPORT:\n",
    "    write_tour_to_img(list(zip(LAT, LON)), best, \"tsp_result.png\")\n",
    "else:\n",
    "      print(\"No PIL detected, cannot plot the graph !\")"
   ]
  },
  {
   "cell_type": "code",
   "execution_count": null,
   "metadata": {},
   "outputs": [],
   "source": []
  }
 ],
 "metadata": {
  "kernelspec": {
   "display_name": "Python 3",
   "language": "python",
   "name": "python3"
  },
  "language_info": {
   "codemirror_mode": {
    "name": "ipython",
    "version": 3
   },
   "file_extension": ".py",
   "mimetype": "text/x-python",
   "name": "python",
   "nbconvert_exporter": "python",
   "pygments_lexer": "ipython3",
   "version": "3.7.13"
  }
 },
 "nbformat": 4,
 "nbformat_minor": 4
}
