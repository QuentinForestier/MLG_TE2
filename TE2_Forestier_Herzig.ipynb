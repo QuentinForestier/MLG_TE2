{
 "cells": [
  {
   "cell_type": "markdown",
   "metadata": {},
   "source": [
    "<h1> Machine Learning - Test 2</h1>\n",
    "\n",
    "<h2> Auteurs </h2>\n",
    "\n",
    "* Forestier Quentin\n",
    "* Herzig Melvyn\n",
    "\n",
    "<h2> Besoins </h2>\n",
    "\n",
    "* Python 3.7\n",
    "* Fichier requirement du laboratoire 7\n",
    "* Pillow 9.1.1\n",
    "\n",
    "<i>Ce laboratoire est fortement inspiré de l'exemple 12 de la documentation officielle de PyEvolve.</i>\n"
   ]
  },
  {
   "cell_type": "markdown",
   "metadata": {},
   "source": [
    "<h3> Importations </h3>\n",
    "La première partie consiste à importer PyEvolve de manière à pouvoir utiliser notre algorithme génétique, importer GeoPy pour calculer la distance entre les villes en tenant compte de la forme de la terre et finalement importer Pillow pour visualiser le résultat final."
   ]
  },
  {
   "cell_type": "code",
   "execution_count": 300,
   "metadata": {
    "pycharm": {
     "name": ""
    }
   },
   "outputs": [],
   "source": [
    "# For GA algorithm\n",
    "from pyevolve import GSimpleGA\n",
    "from pyevolve import Selectors\n",
    "from pyevolve import Statistics\n",
    "from pyevolve import G1DList\n",
    "from pyevolve import Mutators\n",
    "from pyevolve import Crossovers\n",
    "from pyevolve import Consts\n",
    "from pyevolve import DBAdapters\n",
    "\n",
    "import random\n",
    "\n",
    "# For cites distances\n",
    "from geopy.distance import geodesic as GD\n",
    "\n",
    "# For solution display\n",
    "PIL_SUPPORT = None\n",
    "try:\n",
    "   from PIL import Image, ImageDraw, ImageFont\n",
    "   PIL_SUPPORT = True\n",
    "except:\n",
    "   PIL_SUPPORT = False"
   ]
  },
  {
   "cell_type": "markdown",
   "metadata": {},
   "source": [
    "<h3> Matrice des distances </h3>\n",
    "Dans cette première partie, nous créons la matrice de distances à partir des latitudes et longitudes des villes. La matrice de distance est importante car elle sera utilisée plus tard dans la fonction de \"fitness\".\n",
    "\n",
    "Pour ce faire, nous zippons les listes de coordonnées pour obtenir un tuple (lat, long) par ville. Ensuite, nous créons la matrice de distance à partir de cette liste de tuples. \n"
   ]
  },
  {
   "cell_type": "code",
   "execution_count": 301,
   "metadata": {},
   "outputs": [],
   "source": [
    "# Cities latitudes\n",
    "LAT = [16.47, 16.47, 20.09, 22.39, 25.23, 22.00, 20.47, \n",
    "       17.20, 16.30, 14.05, 16.53, 21.52, 19.41, 20.09]\n",
    "\n",
    "# Cities longitudes\n",
    "LON = [96.10, 94.44, 92.54, 93.37, 97.24, 96.05, 97.02, \n",
    "       96.29, 97.38, 98.12, 97.38, 95.59, 97.13, 94.55]\n",
    "\n",
    "def compute_distances_matrix(coordinates):\n",
    "    '''\n",
    "    Compute a distance matrix based on list of (lat, lon).\n",
    "    The cell [i, j] is the distance from the city i to the city j\n",
    "    This is not an euclidean disance, but a distance that consider the earth spherical form.\n",
    "    '''\n",
    "    matrix={}\n",
    "    for i, coordinate_src in enumerate(coordinates):\n",
    "        for j, coordinate_dist in enumerate(coordinates):\n",
    "            matrix[i, j] = GD(coordinate_src, coordinate_dist).km\n",
    "    return matrix\n",
    "\n",
    "distances_matrix = compute_distances_matrix(list(zip(LAT, LON)))"
   ]
  },
  {
   "cell_type": "markdown",
   "metadata": {},
   "source": [
    "<h3> Fonction de fitness </h3>\n",
    "Pour calculer la fitness d'un chromosome, nous calculons la distance totale du tour. \n",
    "Plus le tour est court, plus son fitness est petit.\n",
    "Pour chaque index, nous calculons la distance au prochain index.\n",
    "Ainsi pour l'index 0 nous obtenons la distance entre la ville à l'index 0 et la ville à l'index 1.\n",
    "De la même manière, pour le dernier index, nous obtenons la distance jusqu'à la ville à l'index 0. "
   ]
  },
  {
   "cell_type": "code",
   "execution_count": 302,
   "metadata": {},
   "outputs": [],
   "source": [
    "def fitness_tour_length(chromosome_tour):\n",
    "    \"\"\"Compute the fitness of a tour/chromosome\"\"\"\n",
    "    global distances_matrix\n",
    "    tour_length = 0.0\n",
    "    nb_cities = len(chromosome_tour)\n",
    "    for i in range(nb_cities):\n",
    "        j = (i + 1) % nb_cities  \n",
    "        tour_length += distances_matrix[chromosome_tour[i], chromosome_tour[j]]\n",
    "    return tour_length\n",
    "    "
   ]
  },
  {
   "cell_type": "markdown",
   "metadata": {},
   "source": [
    "<h3> Initialisation </h3>\n",
    "Fonction permettant d'initialiser un génome. Un génome est initalisé avec les numéros des villes (de 0 à nombre de ville - 1). Il est initialisé aléatoirement sans doublon."
   ]
  },
  {
   "cell_type": "code",
   "execution_count": 303,
   "metadata": {},
   "outputs": [],
   "source": [
    "def genome_initializator(genome, **args):\n",
    "   \"\"\" \n",
    "   Initialize a genome\n",
    "   \"\"\"\n",
    "   genome.clearList()\n",
    "   lst = [i for i in range(genome.getListSize())]\n",
    "\n",
    "   for i in range(genome.getListSize()):\n",
    "      choice = random.choice(lst)\n",
    "      lst.remove(choice)\n",
    "      genome.append(choice)"
   ]
  },
  {
   "cell_type": "markdown",
   "metadata": {},
   "source": [
    "<h3>Display the final result </h3>\n",
    "Cette fonction a été reprise et adaptée depuis la documentation de PyEvolve. Elle permet de créer une image qui représente une solution d'un génome."
   ]
  },
  {
   "cell_type": "code",
   "execution_count": 304,
   "metadata": {},
   "outputs": [],
   "source": [
    "def write_tour_to_img(coords, tour, img_file):\n",
    "    \"\"\" \n",
    "    The function to create an image of the result\n",
    "    \"\"\"\n",
    "    padding=30\n",
    "    coords=[(100*x+padding,100*y+padding) for (x,y) in coords]\n",
    "    maxx,maxy,minx,miny=0,0,100000000,100000000\n",
    "    for x,y in coords:\n",
    "        maxx=max(x,maxx)\n",
    "        maxy=max(y,maxy)\n",
    "        minx=min(x,minx)\n",
    "        miny=min(y,miny)\n",
    "        \n",
    "    maxx+=padding\n",
    "    maxy+=padding\n",
    "    minx-=padding\n",
    "    miny-=padding\n",
    "    img=Image.new(\"RGB\", (int(maxx- minx), int(maxy - miny)),color=(255,255,255))\n",
    "\n",
    "    font = ImageFont.truetype(\"arial.ttf\", 30)\n",
    "\n",
    "    d=ImageDraw.Draw(img);\n",
    "    num_cities=len(tour)\n",
    "    ellipse_size = 4\n",
    "    \n",
    "    for i in range(num_cities):\n",
    "        j=(i+1)%num_cities\n",
    "        city_i=tour[i]\n",
    "        city_j=tour[j]\n",
    "        x1,y1=coords[city_i]\n",
    "        x2,y2=coords[city_j]\n",
    "        d.line((int(x1 - minx),int(y1 - miny),int(x2 - minx),int(y2 - miny)),fill=(0,0,0), width=2)\n",
    "        d.text((int(x1 - minx)+7,int(y1 - miny)-5),str(city_i),font=font,fill=(32,32,32), width=3)\n",
    "\n",
    "    for x,y in coords:\n",
    "        x,y=int(x)-minx,int(y)-miny\n",
    "        d.ellipse((x-ellipse_size,y-ellipse_size,x+ellipse_size,y+ellipse_size),outline=(0,0,0),fill=(0,0,0))\n",
    "    del d\n",
    "    img.save(img_file, \"PNG\")\n",
    "\n",
    "    print(\"The plot was saved into the %s file.\" % (img_file,))"
   ]
  },
  {
   "cell_type": "markdown",
   "metadata": {},
   "source": [
    "<h3> Execution </h3>\n",
    "Cette partie démarre l'algorithme génétique et affiche le résultat final."
   ]
  },
  {
   "cell_type": "code",
   "execution_count": 305,
   "metadata": {},
   "outputs": [
    {
     "name": "stdout",
     "output_type": "stream",
     "text": [
      "Gen. 0 (0.00%): Max/Min/Avg Fitness(Raw)             [8091.59(8233.14)/5510.78(5381.44)/6742.99(6742.99)]\n",
      "Gen. 100 (66.67%): Max/Min/Avg Fitness(Raw)             [4137.76(4857.33)/3398.52(3346.76)/3448.13(3448.13)]\n",
      "Gen. 150 (100.00%): Max/Min/Avg Fitness(Raw)             [4185.95(5523.78)/3439.78(3346.76)/3488.29(3488.29)]\n",
      "Total time elapsed: 0.912 seconds.\n",
      "- GenomeBase\n",
      "\tScore:\t\t\t 3346.761974\n",
      "\tFitness:\t\t 3439.781942\n",
      "\n",
      "\tParams:\t\t {'rangemin': 0, 'rangemax': 13}\n",
      "\n",
      "\tSlot [Evaluator] (Count: 1)\n",
      "\t\tName: fitness_tour_length - Weight: 0.50\n",
      "\tSlot [Initializator] (Count: 1)\n",
      "\t\tName: genome_initializator - Weight: 0.50\n",
      "\t\tDoc:  \n",
      "   Initialize a genome\n",
      "   \n",
      "\tSlot [Mutator] (Count: 1)\n",
      "\t\tName: G1DListMutatorSwap - Weight: 0.50\n",
      "\t\tDoc:  The mutator of G1DList, Swap Mutator\n",
      "\n",
      "    .. note:: this mutator is :term:`Data Type Independent`\n",
      "\n",
      "    \n",
      "\tSlot [Crossover] (Count: 1)\n",
      "\t\tName: G1DListCrossoverOX - Weight: 0.50\n",
      "\t\tDoc:  The OX Crossover for G1DList  (order crossover) \n",
      "\n",
      "- G1DList\n",
      "\tList size:\t 14\n",
      "\tList:\t\t [7, 12, 6, 11, 5, 4, 3, 2, 13, 1, 0, 9, 8, 10]\n",
      "\n",
      "\n",
      "The plot was saved into the tsp_result.png file.\n"
     ]
    }
   ],
   "source": [
    "number_of_cities = len(LAT)\n",
    "\n",
    "# Setting genome\n",
    "genome = G1DList.G1DList(number_of_cities)\n",
    "genome.setParams(rangemin=0, rangemax=number_of_cities - 1)\n",
    "\n",
    "genome.evaluator.set(fitness_tour_length)\n",
    "genome.crossover.set(Crossovers.G1DListCrossoverOX)\n",
    "genome.initializator.set(genome_initializator)\n",
    "\n",
    "# Setting the Genetic Algorithm\n",
    "ga = GSimpleGA.GSimpleGA(genome, seed=999)\n",
    "\n",
    "ga.setMinimax(Consts.minimaxType[\"minimize\"])\n",
    "ga.selector.set(Selectors.GTournamentSelector)\n",
    "ga.setCrossoverRate(0.9)\n",
    "ga.setMutationRate(0.01)\n",
    "ga.setGenerations(150)\n",
    "ga.setPopulationSize(100)\n",
    "\n",
    "# Record evolution results in a database for plotting\n",
    "sqlite_adapter = DBAdapters.DBSQLite(identify=\"log_tsp\")\n",
    "ga.setDBAdapter(sqlite_adapter)\n",
    "\n",
    "# Running\n",
    "ga.evolve(freq_stats=100)\n",
    "best = ga.bestIndividual()\n",
    "\n",
    "print(best)\n",
    "\n",
    "if PIL_SUPPORT:\n",
    "    write_tour_to_img(list(zip(LAT, LON)), best, \"tsp_result.png\")\n",
    "else:\n",
    "      print(\"No PIL detected, cannot plot the graph !\")"
   ]
  },
  {
   "cell_type": "markdown",
   "metadata": {},
   "source": [
    "<h3> Plotting </h3>\n",
    "Cette dernière partie affiche deux plots qui détaillents l'évolution des performances de notre exécution de l'algorithme génétique."
   ]
  },
  {
   "cell_type": "code",
   "execution_count": 306,
   "metadata": {},
   "outputs": [
    {
     "name": "stdout",
     "output_type": "stream",
     "text": [
      "Pyevolve 0.6 - Graph Plot Tool\n",
      "By Christian S. Perone\n",
      "\n",
      "Loading modules....\n",
      "Loading database and creating graph...\n",
      "150 generations found !\n"
     ]
    },
    {
     "data": {
      "image/png": "[encoded data removed]",
      "text/plain": [
       "<Figure size 432x288 with 1 Axes>"
      ]
     },
     "metadata": {
      "needs_background": "light"
     },
     "output_type": "display_data"
    }
   ],
   "source": [
    "# Generate a graph showing the evolutionary results: fitness vs generations\n",
    "%run C:\\Users\\melvy\\miniconda3\\envs\\lab7\\Scripts\\pyevolve_graph.py -i log_tsp -2"
   ]
  },
  {
   "cell_type": "code",
   "execution_count": 307,
   "metadata": {},
   "outputs": [
    {
     "name": "stdout",
     "output_type": "stream",
     "text": [
      "Pyevolve 0.6 - Graph Plot Tool\n",
      "By Christian S. Perone\n",
      "\n",
      "Loading modules....\n",
      "Loading database and creating graph...\n",
      "150 generations found !\n"
     ]
    },
    {
     "data": {
      "image/png": "[encoded data removed]",
      "text/plain": [
       "<Figure size 432x288 with 2 Axes>"
      ]
     },
     "metadata": {
      "needs_background": "light"
     },
     "output_type": "display_data"
    }
   ],
   "source": [
    "# Generate a heatmap of population fitness score distribution over generations\n",
    "%run  C:\\Users\\melvy\\miniconda3\\envs\\lab7\\Scripts\\pyevolve_graph.py -i log_tsp -8"
   ]
  },
  {
   "cell_type": "code",
   "execution_count": null,
   "metadata": {},
   "outputs": [],
   "source": []
  }
 ],
 "metadata": {
  "kernelspec": {
   "display_name": "Python 3",
   "language": "python",
   "name": "python3"
  },
  "language_info": {
   "codemirror_mode": {
    "name": "ipython",
    "version": 3
   },
   "file_extension": ".py",
   "mimetype": "text/x-python",
   "name": "python",
   "nbconvert_exporter": "python",
   "pygments_lexer": "ipython3",
   "version": "3.7.13"
  }
 },
 "nbformat": 4,
 "nbformat_minor": 4
}
